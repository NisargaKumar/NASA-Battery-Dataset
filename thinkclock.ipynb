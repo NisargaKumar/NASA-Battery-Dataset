{
 "cells": [
  {
   "cell_type": "code",
   "execution_count": 1,
   "metadata": {},
   "outputs": [
    {
     "name": "stdout",
     "output_type": "stream",
     "text": [
      "Requirement already satisfied: plotly in c:\\users\\nisarga\\appdata\\local\\programs\\python\\python312\\lib\\site-packages (5.23.0)\n",
      "Requirement already satisfied: pandas in c:\\users\\nisarga\\appdata\\roaming\\python\\python312\\site-packages (2.2.2)\n",
      "Requirement already satisfied: tenacity>=6.2.0 in c:\\users\\nisarga\\appdata\\roaming\\python\\python312\\site-packages (from plotly) (8.4.1)\n",
      "Requirement already satisfied: packaging in c:\\users\\nisarga\\appdata\\local\\programs\\python\\python312\\lib\\site-packages (from plotly) (23.2)\n",
      "Requirement already satisfied: numpy>=1.26.0 in c:\\users\\nisarga\\appdata\\roaming\\python\\python312\\site-packages (from pandas) (1.26.4)\n",
      "Requirement already satisfied: python-dateutil>=2.8.2 in c:\\users\\nisarga\\appdata\\roaming\\python\\python312\\site-packages (from pandas) (2.9.0.post0)\n",
      "Requirement already satisfied: pytz>=2020.1 in c:\\users\\nisarga\\appdata\\roaming\\python\\python312\\site-packages (from pandas) (2024.1)\n",
      "Requirement already satisfied: tzdata>=2022.7 in c:\\users\\nisarga\\appdata\\roaming\\python\\python312\\site-packages (from pandas) (2024.1)\n",
      "Requirement already satisfied: six>=1.5 in c:\\users\\nisarga\\appdata\\roaming\\python\\python312\\site-packages (from python-dateutil>=2.8.2->pandas) (1.16.0)\n"
     ]
    },
    {
     "name": "stderr",
     "output_type": "stream",
     "text": [
      "WARNING: Ignoring invalid distribution ~ip (C:\\Users\\Nisarga\\AppData\\Local\\Programs\\Python\\Python312\\Lib\\site-packages)\n",
      "WARNING: Ignoring invalid distribution ~ip (C:\\Users\\Nisarga\\AppData\\Local\\Programs\\Python\\Python312\\Lib\\site-packages)\n",
      "WARNING: Ignoring invalid distribution ~ip (C:\\Users\\Nisarga\\AppData\\Local\\Programs\\Python\\Python312\\Lib\\site-packages)\n"
     ]
    }
   ],
   "source": [
    "!pip install plotly pandas"
   ]
  },
  {
   "cell_type": "code",
   "execution_count": 2,
   "metadata": {},
   "outputs": [],
   "source": [
    "import plotly.express as px\n",
    "import pandas as pd\n",
    "import os\n",
    "import glob"
   ]
  },
  {
   "cell_type": "code",
   "execution_count": 3,
   "metadata": {},
   "outputs": [],
   "source": [
    "# Define the path to your cleaned dataset folder\n",
    "dataset_path = r'D:\\Nisarga Docs\\ThinkClock\\cleaned_dataset\\data'  # Adjust the path\n",
    "\n",
    "# Load all CSV files in the directory into a single DataFrame\n",
    "all_files = glob.glob(os.path.join(dataset_path, '*.csv'))\n",
    "df_list = []\n",
    "\n",
    "for file in all_files:\n",
    "    df = pd.read_csv(file)\n",
    "    df_list.append(df)\n",
    "\n",
    "# Concatenate all DataFrames into one\n",
    "df_all = pd.concat(df_list, ignore_index=True)"
   ]
  },
  {
   "cell_type": "code",
   "execution_count": 4,
   "metadata": {},
   "outputs": [
    {
     "data": {
      "text/html": [
       "<div>\n",
       "<style scoped>\n",
       "    .dataframe tbody tr th:only-of-type {\n",
       "        vertical-align: middle;\n",
       "    }\n",
       "\n",
       "    .dataframe tbody tr th {\n",
       "        vertical-align: top;\n",
       "    }\n",
       "\n",
       "    .dataframe thead th {\n",
       "        text-align: right;\n",
       "    }\n",
       "</style>\n",
       "<table border=\"1\" class=\"dataframe\">\n",
       "  <thead>\n",
       "    <tr style=\"text-align: right;\">\n",
       "      <th></th>\n",
       "      <th>Voltage_measured</th>\n",
       "      <th>Current_measured</th>\n",
       "      <th>Temperature_measured</th>\n",
       "      <th>Current_load</th>\n",
       "      <th>Voltage_load</th>\n",
       "      <th>Time</th>\n",
       "      <th>Sense_current</th>\n",
       "      <th>Battery_current</th>\n",
       "      <th>Current_ratio</th>\n",
       "      <th>Battery_impedance</th>\n",
       "      <th>Rectified_Impedance</th>\n",
       "      <th>Current_charge</th>\n",
       "      <th>Voltage_charge</th>\n",
       "    </tr>\n",
       "  </thead>\n",
       "  <tbody>\n",
       "    <tr>\n",
       "      <th>0</th>\n",
       "      <td>4.246711</td>\n",
       "      <td>0.000252</td>\n",
       "      <td>6.212696</td>\n",
       "      <td>0.0002</td>\n",
       "      <td>0.000</td>\n",
       "      <td>0.000</td>\n",
       "      <td>NaN</td>\n",
       "      <td>NaN</td>\n",
       "      <td>NaN</td>\n",
       "      <td>NaN</td>\n",
       "      <td>NaN</td>\n",
       "      <td>NaN</td>\n",
       "      <td>NaN</td>\n",
       "    </tr>\n",
       "    <tr>\n",
       "      <th>1</th>\n",
       "      <td>4.246764</td>\n",
       "      <td>-0.001411</td>\n",
       "      <td>6.234019</td>\n",
       "      <td>0.0002</td>\n",
       "      <td>4.262</td>\n",
       "      <td>9.360</td>\n",
       "      <td>NaN</td>\n",
       "      <td>NaN</td>\n",
       "      <td>NaN</td>\n",
       "      <td>NaN</td>\n",
       "      <td>NaN</td>\n",
       "      <td>NaN</td>\n",
       "      <td>NaN</td>\n",
       "    </tr>\n",
       "    <tr>\n",
       "      <th>2</th>\n",
       "      <td>4.039277</td>\n",
       "      <td>-0.995093</td>\n",
       "      <td>6.250255</td>\n",
       "      <td>1.0000</td>\n",
       "      <td>3.465</td>\n",
       "      <td>23.281</td>\n",
       "      <td>NaN</td>\n",
       "      <td>NaN</td>\n",
       "      <td>NaN</td>\n",
       "      <td>NaN</td>\n",
       "      <td>NaN</td>\n",
       "      <td>NaN</td>\n",
       "      <td>NaN</td>\n",
       "    </tr>\n",
       "    <tr>\n",
       "      <th>3</th>\n",
       "      <td>4.019506</td>\n",
       "      <td>-0.996731</td>\n",
       "      <td>6.302176</td>\n",
       "      <td>1.0000</td>\n",
       "      <td>3.451</td>\n",
       "      <td>36.406</td>\n",
       "      <td>NaN</td>\n",
       "      <td>NaN</td>\n",
       "      <td>NaN</td>\n",
       "      <td>NaN</td>\n",
       "      <td>NaN</td>\n",
       "      <td>NaN</td>\n",
       "      <td>NaN</td>\n",
       "    </tr>\n",
       "    <tr>\n",
       "      <th>4</th>\n",
       "      <td>4.004763</td>\n",
       "      <td>-0.992845</td>\n",
       "      <td>6.361645</td>\n",
       "      <td>1.0000</td>\n",
       "      <td>3.438</td>\n",
       "      <td>49.625</td>\n",
       "      <td>NaN</td>\n",
       "      <td>NaN</td>\n",
       "      <td>NaN</td>\n",
       "      <td>NaN</td>\n",
       "      <td>NaN</td>\n",
       "      <td>NaN</td>\n",
       "      <td>NaN</td>\n",
       "    </tr>\n",
       "  </tbody>\n",
       "</table>\n",
       "</div>"
      ],
      "text/plain": [
       "   Voltage_measured  Current_measured  Temperature_measured  Current_load  \\\n",
       "0          4.246711          0.000252              6.212696        0.0002   \n",
       "1          4.246764         -0.001411              6.234019        0.0002   \n",
       "2          4.039277         -0.995093              6.250255        1.0000   \n",
       "3          4.019506         -0.996731              6.302176        1.0000   \n",
       "4          4.004763         -0.992845              6.361645        1.0000   \n",
       "\n",
       "   Voltage_load    Time Sense_current Battery_current Current_ratio  \\\n",
       "0         0.000   0.000           NaN             NaN           NaN   \n",
       "1         4.262   9.360           NaN             NaN           NaN   \n",
       "2         3.465  23.281           NaN             NaN           NaN   \n",
       "3         3.451  36.406           NaN             NaN           NaN   \n",
       "4         3.438  49.625           NaN             NaN           NaN   \n",
       "\n",
       "  Battery_impedance Rectified_Impedance  Current_charge  Voltage_charge  \n",
       "0               NaN                 NaN             NaN             NaN  \n",
       "1               NaN                 NaN             NaN             NaN  \n",
       "2               NaN                 NaN             NaN             NaN  \n",
       "3               NaN                 NaN             NaN             NaN  \n",
       "4               NaN                 NaN             NaN             NaN  "
      ]
     },
     "execution_count": 4,
     "metadata": {},
     "output_type": "execute_result"
    }
   ],
   "source": [
    "df_all.head()"
   ]
  },
  {
   "cell_type": "code",
   "execution_count": 5,
   "metadata": {},
   "outputs": [
    {
     "data": {
      "text/plain": [
       "Index(['Voltage_measured', 'Current_measured', 'Temperature_measured',\n",
       "       'Current_load', 'Voltage_load', 'Time', 'Sense_current',\n",
       "       'Battery_current', 'Current_ratio', 'Battery_impedance',\n",
       "       'Rectified_Impedance', 'Current_charge', 'Voltage_charge'],\n",
       "      dtype='object')"
      ]
     },
     "execution_count": 5,
     "metadata": {},
     "output_type": "execute_result"
    }
   ],
   "source": [
    "# Check all columns in the dataframe\n",
    "df_all.columns"
   ]
  },
  {
   "cell_type": "code",
   "execution_count": 6,
   "metadata": {},
   "outputs": [
    {
     "name": "stderr",
     "output_type": "stream",
     "text": [
      "C:\\Users\\Nisarga\\AppData\\Local\\Temp\\ipykernel_8612\\1097398066.py:2: FutureWarning: DataFrame.fillna with 'method' is deprecated and will raise in a future version. Use obj.ffill() or obj.bfill() instead.\n",
      "  df_filtered = df_all.fillna(method='ffill')\n"
     ]
    }
   ],
   "source": [
    "# Fill missing values in the relevant columns using forward fill\n",
    "df_filtered = df_all.fillna(method='ffill')\n"
   ]
  },
  {
   "cell_type": "code",
   "execution_count": 7,
   "metadata": {},
   "outputs": [
    {
     "name": "stdout",
     "output_type": "stream",
     "text": [
      "Note: you may need to restart the kernel to use updated packages.\n"
     ]
    },
    {
     "name": "stderr",
     "output_type": "stream",
     "text": [
      "WARNING: Ignoring invalid distribution ~ip (c:\\Users\\Nisarga\\AppData\\Local\\Programs\\Python\\Python312\\Lib\\site-packages)\n",
      "WARNING: Ignoring invalid distribution ~ip (c:\\Users\\Nisarga\\AppData\\Local\\Programs\\Python\\Python312\\Lib\\site-packages)\n",
      "WARNING: Ignoring invalid distribution ~ip (c:\\Users\\Nisarga\\AppData\\Local\\Programs\\Python\\Python312\\Lib\\site-packages)\n"
     ]
    }
   ],
   "source": [
    "pip install nbformat>=4.2.0"
   ]
  },
  {
   "cell_type": "code",
   "execution_count": 8,
   "metadata": {},
   "outputs": [],
   "source": [
    "import plotly.express as px\n",
    "\n",
    "# Plot Battery Impedance Over Time\n",
    "fig_impedance = px.line(df_filtered, x='Time', y='Battery_impedance', title='Battery Impedance Over Time')\n",
    "\n",
    "# Show the plot\n",
    "fig_impedance.show()"
   ]
  },
  {
   "cell_type": "code",
   "execution_count": 9,
   "metadata": {},
   "outputs": [],
   "source": [
    "# Plot Estimated Electrolyte Resistance (Re) Over Time\n",
    "fig_re = px.line(df_filtered, x='Time', y='Rectified_Impedance', title='Estimated Electrolyte Resistance (Re) Over Time')\n",
    "\n",
    "# Show the plot\n",
    "fig_re.show()\n"
   ]
  },
  {
   "cell_type": "code",
   "execution_count": null,
   "metadata": {},
   "outputs": [],
   "source": [
    "\n",
    "# Assuming Rct can be derived from a relevant column or as Rectified_Impedance for illustration\n",
    "fig_rct = px.line(df_filtered, x='Time', y='Rectified_Impedance', title='Estimated Charge Transfer Resistance (Rct) Over Time')\n",
    "\n",
    "# Show the plot\n",
    "fig_rct.show()\n"
   ]
  }
 ],
 "metadata": {
  "kernelspec": {
   "display_name": "Python 3",
   "language": "python",
   "name": "python3"
  },
  "language_info": {
   "codemirror_mode": {
    "name": "ipython",
    "version": 3
   },
   "file_extension": ".py",
   "mimetype": "text/x-python",
   "name": "python",
   "nbconvert_exporter": "python",
   "pygments_lexer": "ipython3",
   "version": "3.12.5"
  }
 },
 "nbformat": 4,
 "nbformat_minor": 2
}
